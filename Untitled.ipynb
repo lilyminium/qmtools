{
 "cells": [
  {
   "cell_type": "code",
   "execution_count": 1,
   "metadata": {},
   "outputs": [],
   "source": [
    "import mdtraj as md"
   ]
  },
  {
   "cell_type": "code",
   "execution_count": 28,
   "metadata": {},
   "outputs": [
    {
     "name": "stdout",
     "output_type": "stream",
     "text": [
      "{'a': [], 'b': [], 'c': []}\n"
     ]
    }
   ],
   "source": [
    "a = ['a', 'b', 'c']\n",
    "b = dict.fromkeys(a, list())\n",
    "print(b)"
   ]
  },
  {
   "cell_type": "code",
   "execution_count": 29,
   "metadata": {},
   "outputs": [
    {
     "name": "stdout",
     "output_type": "stream",
     "text": [
      "{'a': [1], 'b': [1], 'c': [1]}\n"
     ]
    }
   ],
   "source": [
    "b['b'].append(1)\n",
    "print(b)"
   ]
  },
  {
   "cell_type": "code",
   "execution_count": 12,
   "metadata": {},
   "outputs": [],
   "source": [
    "df = c1.top.to_dataframe()"
   ]
  },
  {
   "cell_type": "code",
   "execution_count": 13,
   "metadata": {},
   "outputs": [
    {
     "data": {
      "text/plain": [
       "(    serial name element  resSeq resName  chainID segmentID\n",
       " 0        1    C       C       1     UNK        0          \n",
       " 1        2    C       C       2     UNK        0          \n",
       " 2        3    C       C       3     UNK        0          \n",
       " 3        4    C       C       4     UNK        0          \n",
       " 4        5    C       C       5     UNK        0          \n",
       " 5        6    C       C       6     UNK        0          \n",
       " 6        7    C       C       7     UNK        0          \n",
       " 7        8    N       N       7     UNK        0          \n",
       " 8        9    C       C       8     UNK        0          \n",
       " 9       10    N       N       8     UNK        0          \n",
       " 10      11    C       C       9     UNK        0          \n",
       " 11      12    C       C      10     UNK        0          \n",
       " 12      13    O       O      10     UNK        0          \n",
       " 13      14    F       F      10     UNK        0          \n",
       " 14      15    F       F      11     UNK        0          \n",
       " 15      16    F       F      12     UNK        0          \n",
       " 16      17    H       H      12     UNK        0          \n",
       " 17      18    H       H      13     UNK        0          \n",
       " 18      19    H       H      14     UNK        0          \n",
       " 19      20    H       H      15     UNK        0          \n",
       " 20      21    H       H      16     UNK        0          \n",
       " 21      22    H       H      17     UNK        0          \n",
       " 22      23    H       H      18     UNK        0          \n",
       " 23      24    H       H      19     UNK        0          \n",
       " 24      25    H       H      20     UNK        0          \n",
       " 25      26    H       H      21     UNK        0          \n",
       " 26      27    H       H      22     UNK        0          \n",
       " 27      28    H       H      23     UNK        0          \n",
       " 28      29    H       H      24     UNK        0          , array([[ 5,  7],\n",
       "        [ 6,  9],\n",
       "        [11, 12],\n",
       "        [ 0,  1],\n",
       "        [ 0,  5],\n",
       "        [ 0,  7],\n",
       "        [ 1,  2],\n",
       "        [ 1, 16],\n",
       "        [ 2,  3],\n",
       "        [ 2, 17],\n",
       "        [ 3,  4],\n",
       "        [ 3,  6],\n",
       "        [ 4,  5],\n",
       "        [ 4, 18],\n",
       "        [ 5, 19],\n",
       "        [ 6, 13],\n",
       "        [ 6, 14],\n",
       "        [ 6, 15],\n",
       "        [ 7,  8],\n",
       "        [ 7, 20],\n",
       "        [ 8,  9],\n",
       "        [ 8, 12],\n",
       "        [ 8, 21],\n",
       "        [ 9, 10],\n",
       "        [ 9, 22],\n",
       "        [10, 11],\n",
       "        [10, 23],\n",
       "        [10, 24],\n",
       "        [11, 25],\n",
       "        [11, 26],\n",
       "        [11, 27],\n",
       "        [12, 28]]))"
      ]
     },
     "execution_count": 13,
     "metadata": {},
     "output_type": "execute_result"
    }
   ],
   "source": [
    "df"
   ]
  },
  {
   "cell_type": "code",
   "execution_count": 30,
   "metadata": {},
   "outputs": [],
   "source": [
    "import mendeleev as meev"
   ]
  },
  {
   "cell_type": "code",
   "execution_count": 32,
   "metadata": {},
   "outputs": [],
   "source": [
    "h = meev.element(\"H\")"
   ]
  },
  {
   "cell_type": "code",
   "execution_count": 47,
   "metadata": {},
   "outputs": [
    {
     "data": {
      "text/plain": [
       "[IonicRadius(\n",
       " \tatomic_number=1,\n",
       "  \tcharge=1,\n",
       "  \tcoordination='I',\n",
       "  \tcrystal_radius=-24.0,\n",
       "  \teconf='1s0',\n",
       "  \tid=172,\n",
       "  \tionic_radius=-38.0,\n",
       "  \tmost_reliable=False,\n",
       "  \torigin='',\n",
       "  \tspin='',\n",
       " ), IonicRadius(\n",
       " \tatomic_number=1,\n",
       "  \tcharge=1,\n",
       "  \tcoordination='II',\n",
       "  \tcrystal_radius=-4.0,\n",
       "  \teconf='1s0',\n",
       "  \tid=173,\n",
       "  \tionic_radius=-18.0,\n",
       "  \tmost_reliable=False,\n",
       "  \torigin='',\n",
       "  \tspin='',\n",
       " )]"
      ]
     },
     "execution_count": 47,
     "metadata": {},
     "output_type": "execute_result"
    }
   ],
   "source": [
    "h.ionic_radii"
   ]
  },
  {
   "cell_type": "code",
   "execution_count": 52,
   "metadata": {},
   "outputs": [
    {
     "data": {
      "text/plain": [
       "Element(\n",
       "\tabundance_crust=200.0,\n",
       " \tabundance_sea=28.0,\n",
       " \tannotation='density(graphite), ',\n",
       " \tatomic_number=6,\n",
       " \tatomic_radius=91.0,\n",
       " \tatomic_radius_rahm=190.0,\n",
       " \tatomic_volume=5.3,\n",
       " \tatomic_weight=12.011,\n",
       " \tatomic_weight_uncertainty=None,\n",
       " \tblock='p',\n",
       " \tboiling_point=5100.0,\n",
       " \tc6=46.6,\n",
       " \tc6_gb=47.9,\n",
       " \tcas='7440-44-0',\n",
       " \tcovalent_radius_bragg=77.0,\n",
       " \tcovalent_radius_cordero=73.0,\n",
       " \tcovalent_radius_pyykko=75.0,\n",
       " \tcovalent_radius_pyykko_double=67.0,\n",
       " \tcovalent_radius_pyykko_triple=60.0,\n",
       " \tcovalent_radius_slater=70.0,\n",
       " \tcpk_color='#c8c8c8',\n",
       " \tdensity=2.25,\n",
       " \tdescription='Carbon is a member of group 14 of the periodic table. It has three allotropic forms of it, diamonds, graphite and fullerite. Carbon-14 is commonly used in radioactive dating. Carbon occurs in all organic life and is the basis of organic chemistry. Carbon has the interesting chemical property of being able to bond with itself, and a wide variety of other elements.',\n",
       " \tdipole_polarizability=20.53,\n",
       " \tdiscoverers='Known to the ancients',\n",
       " \tdiscovery_location=None,\n",
       " \tdiscovery_year=None,\n",
       " \tec=<ElectronicConfiguration(conf=\"1s2 2s2 2p2\")>,\n",
       " \teconf='[He] 2s2 2p2',\n",
       " \telectron_affinity=1.262119,\n",
       " \ten_allen=15.05,\n",
       " \ten_ghosh=0.22477600000000003,\n",
       " \ten_pauling=2.55,\n",
       " \tevaporation_heat=None,\n",
       " \tfusion_heat=None,\n",
       " \tgas_basicity=None,\n",
       " \tgeochemical_class='semi-volatile',\n",
       " \tgoldschmidt_class='atmophile',\n",
       " \tgroup=<Group(symbol=IVA, name=Carbon group)>,\n",
       " \tgroup_id=14,\n",
       " \theat_of_formation=716.87,\n",
       " \tionic_radii=[IonicRadius(\n",
       "\tatomic_number=6,\n",
       " \tcharge=4,\n",
       " \tcoordination='III',\n",
       " \tcrystal_radius=6.0,\n",
       " \teconf='1s2',\n",
       " \tid=56,\n",
       " \tionic_radius=-8.0,\n",
       " \tmost_reliable=False,\n",
       " \torigin='',\n",
       " \tspin='',\n",
       "), IonicRadius(\n",
       "\tatomic_number=6,\n",
       " \tcharge=4,\n",
       " \tcoordination='IV',\n",
       " \tcrystal_radius=28.999999999999996,\n",
       " \teconf='1s2',\n",
       " \tid=57,\n",
       " \tionic_radius=15.0,\n",
       " \tmost_reliable=False,\n",
       " \torigin=\"Pauling's (1960) crystal radius, \",\n",
       " \tspin='',\n",
       "), IonicRadius(\n",
       "\tatomic_number=6,\n",
       " \tcharge=4,\n",
       " \tcoordination='VI',\n",
       " \tcrystal_radius=30.0,\n",
       " \teconf='1s2',\n",
       " \tid=58,\n",
       " \tionic_radius=16.0,\n",
       " \tmost_reliable=False,\n",
       " \torigin='Ahrens (1952) ionic radius, ',\n",
       " \tspin='',\n",
       ")],\n",
       " \tis_monoisotopic=None,\n",
       " \tis_radioactive=False,\n",
       " \tisotopes=[<Isotope(Z=6, A=12, mass=12.0)>, <Isotope(Z=6, A=13, mass=13.003354835)>, <Isotope(Z=6, A=14, mass=None)>],\n",
       " \tjmol_color='#909090',\n",
       " \tlattice_constant=3.57,\n",
       " \tlattice_structure='DIA',\n",
       " \tmelting_point=3820.0,\n",
       " \tmetallic_radius=None,\n",
       " \tmetallic_radius_c12=86.0,\n",
       " \tmolcas_gv_color='#555555',\n",
       " \tname='Carbon',\n",
       " \tname_origin='Latin: carbo, (charcoal).',\n",
       " \tperiod=2,\n",
       " \tproton_affinity=None,\n",
       " \tscreening_constants=[<ScreeningConstant(Z=   6, n=  1, s=s, screening=    0.3273)>, <ScreeningConstant(Z=   6, n=  2, s=p, screening=    2.8642)>, <ScreeningConstant(Z=   6, n=  2, s=s, screening=    2.7834)>],\n",
       " \tsources='Made by burning organic compounds with insufficient oxygen.',\n",
       " \tspecific_heat=0.711,\n",
       " \tsymbol='C',\n",
       " \tthermal_conductivity=1.59,\n",
       " \tuses='For making steel, in filters, and many more uses. Radiocarbon dating uses the carbon-14 isotope to date old objects.',\n",
       " \tvdw_radius=170.0,\n",
       " \tvdw_radius_alvarez=177.0,\n",
       " \tvdw_radius_batsanov=170.0,\n",
       " \tvdw_radius_bondi=170.0,\n",
       " \tvdw_radius_dreiding=389.83,\n",
       " \tvdw_radius_mm3=204.0,\n",
       " \tvdw_radius_rt=177.0,\n",
       " \tvdw_radius_truhlar=None,\n",
       " \tvdw_radius_uff=385.1,\n",
       ")"
      ]
     },
     "execution_count": 52,
     "metadata": {},
     "output_type": "execute_result"
    }
   ],
   "source": [
    "meev.element(\"C\")"
   ]
  },
  {
   "cell_type": "code",
   "execution_count": null,
   "metadata": {},
   "outputs": [],
   "source": []
  }
 ],
 "metadata": {
  "kernelspec": {
   "display_name": "Python 3",
   "language": "python",
   "name": "python3"
  },
  "language_info": {
   "codemirror_mode": {
    "name": "ipython",
    "version": 3
   },
   "file_extension": ".py",
   "mimetype": "text/x-python",
   "name": "python",
   "nbconvert_exporter": "python",
   "pygments_lexer": "ipython3",
   "version": "3.6.5"
  }
 },
 "nbformat": 4,
 "nbformat_minor": 2
}
